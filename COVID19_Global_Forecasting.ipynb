{
  "nbformat": 4,
  "nbformat_minor": 0,
  "metadata": {
    "colab": {
      "name": "COVID19 Global Forecasting.ipynb",
      "provenance": [],
      "collapsed_sections": [],
      "authorship_tag": "ABX9TyNNe9UjVOPH17Er9L9fQEC8",
      "include_colab_link": true
    },
    "kernelspec": {
      "name": "python3",
      "display_name": "Python 3"
    }
  },
  "cells": [
    {
      "cell_type": "markdown",
      "metadata": {
        "id": "view-in-github",
        "colab_type": "text"
      },
      "source": [
        "<a href=\"https://colab.research.google.com/github/linlih/ML_Exercise/blob/master/COVID19_Global_Forecasting.ipynb\" target=\"_parent\"><img src=\"https://colab.research.google.com/assets/colab-badge.svg\" alt=\"Open In Colab\"/></a>"
      ]
    },
    {
      "cell_type": "markdown",
      "metadata": {
        "id": "Oevr0wTs21VV",
        "colab_type": "text"
      },
      "source": [
        "# 比赛说明\n"
      ]
    },
    {
      "cell_type": "code",
      "metadata": {
        "id": "hCfZ0ROo2Xko",
        "colab_type": "code",
        "outputId": "ef1be05c-964d-420e-ae66-525513130ad2",
        "colab": {
          "base_uri": "https://localhost:8080/",
          "height": 35
        }
      },
      "source": [
        "!mkdir -p ~/.kaggle\n",
        "!cp kaggle.json ~/.kaggle/\n",
        "!chmod 600 ~/.kaggle/kaggle.json\n",
        "!ls ~/.kaggle"
      ],
      "execution_count": 1,
      "outputs": [
        {
          "output_type": "stream",
          "text": [
            "kaggle.json\n"
          ],
          "name": "stdout"
        }
      ]
    },
    {
      "cell_type": "code",
      "metadata": {
        "id": "47BjNstU2udt",
        "colab_type": "code",
        "outputId": "ec42db46-7039-4b7e-decf-24606c180a0f",
        "colab": {
          "base_uri": "https://localhost:8080/",
          "height": 190
        }
      },
      "source": [
        "!kaggle competitions download -c covid19-global-forecasting-week-4"
      ],
      "execution_count": 139,
      "outputs": [
        {
          "output_type": "stream",
          "text": [
            "Warning: Looks like you're using an outdated API Version, please consider updating (server 1.5.6 / client 1.5.4)\n",
            "Downloading test.csv to /content\n",
            "  0% 0.00/388k [00:00<?, ?B/s]\n",
            "100% 388k/388k [00:00<00:00, 56.5MB/s]\n",
            "Downloading submission.csv to /content\n",
            "  0% 0.00/121k [00:00<?, ?B/s]\n",
            "100% 121k/121k [00:00<00:00, 37.0MB/s]\n",
            "Downloading train.csv to /content\n",
            "  0% 0.00/950k [00:00<?, ?B/s]\n",
            "100% 950k/950k [00:00<00:00, 58.7MB/s]\n"
          ],
          "name": "stdout"
        }
      ]
    },
    {
      "cell_type": "code",
      "metadata": {
        "id": "_ASVwVhS2yHK",
        "colab_type": "code",
        "colab": {}
      },
      "source": [
        "import numpy as np\n",
        "import pandas as pd\n",
        "\n",
        "data = pd.read_csv('train.csv')"
      ],
      "execution_count": 0,
      "outputs": []
    },
    {
      "cell_type": "code",
      "metadata": {
        "id": "VMqOEw023GSg",
        "colab_type": "code",
        "outputId": "ed6ce448-ea16-4a20-8d76-bb7cb9da92d7",
        "colab": {
          "base_uri": "https://localhost:8080/",
          "height": 518
        }
      },
      "source": [
        "print(data.head()) # 查看前五行信息\n",
        "print(data.info()) # 查看数据描述，总行数，每个属性的类型，非空数值的数量\n",
        "print(data.describe()) # 数值属性类型的概括"
      ],
      "execution_count": 142,
      "outputs": [
        {
          "output_type": "stream",
          "text": [
            "   Id Province_State Country_Region        Date  ConfirmedCases  Fatalities\n",
            "0   1            NaN    Afghanistan  2020-01-22             0.0         0.0\n",
            "1   2            NaN    Afghanistan  2020-01-23             0.0         0.0\n",
            "2   3            NaN    Afghanistan  2020-01-24             0.0         0.0\n",
            "3   4            NaN    Afghanistan  2020-01-25             0.0         0.0\n",
            "4   5            NaN    Afghanistan  2020-01-26             0.0         0.0\n",
            "<class 'pandas.core.frame.DataFrame'>\n",
            "RangeIndex: 25040 entries, 0 to 25039\n",
            "Data columns (total 6 columns):\n",
            " #   Column          Non-Null Count  Dtype  \n",
            "---  ------          --------------  -----  \n",
            " 0   Id              25040 non-null  int64  \n",
            " 1   Province_State  10640 non-null  object \n",
            " 2   Country_Region  25040 non-null  object \n",
            " 3   Date            25040 non-null  object \n",
            " 4   ConfirmedCases  25040 non-null  float64\n",
            " 5   Fatalities      25040 non-null  float64\n",
            "dtypes: float64(2), int64(1), object(3)\n",
            "memory usage: 1.1+ MB\n",
            "None\n",
            "                 Id  ConfirmedCases    Fatalities\n",
            "count  25040.000000    25040.000000  25040.000000\n",
            "mean   17824.500000      945.632029     46.689816\n",
            "std    10300.685154     7205.968068    559.239035\n",
            "min        1.000000        0.000000      0.000000\n",
            "25%     8912.750000        0.000000      0.000000\n",
            "50%    17824.500000        1.000000      0.000000\n",
            "75%    26736.250000       85.000000      1.000000\n",
            "max    35648.000000   172348.000000  18849.000000\n"
          ],
          "name": "stdout"
        }
      ]
    },
    {
      "cell_type": "code",
      "metadata": {
        "id": "zz6auYgwP2nN",
        "colab_type": "code",
        "colab": {}
      },
      "source": [
        "# 输出行数过多会被省略\n",
        "# import pandas\n",
        "# pandas.set_option('display.max_columns',200) #设置显示列数\n",
        "# pandas.set_option('display.max_rows',100) #设置显示行数\n",
        "\n",
        "data['Province_State'].value_counts() # 查看具体项中有哪些类别"
      ],
      "execution_count": 0,
      "outputs": []
    },
    {
      "cell_type": "code",
      "metadata": {
        "id": "56rcuc3ZTZtJ",
        "colab_type": "code",
        "colab": {}
      },
      "source": [
        "# % matplotlib inline\n",
        "# import matplotlib.pyplot as plt\n",
        "# data.hist(bins=50, figsize=(20, 15))\n",
        "# plt.show()"
      ],
      "execution_count": 0,
      "outputs": []
    },
    {
      "cell_type": "code",
      "metadata": {
        "id": "5owwKQcGU-yk",
        "colab_type": "code",
        "outputId": "b8836ab3-c55d-47b0-a245-ab8c2ad56af7",
        "colab": {
          "base_uri": "https://localhost:8080/",
          "height": 35
        }
      },
      "source": [
        "# 如何将国家的分离开，并进行训练\n",
        "country_name = data['Country_Region'].unique() # 获取所有国家的名字\n",
        "print(country_name.size)"
      ],
      "execution_count": 143,
      "outputs": [
        {
          "output_type": "stream",
          "text": [
            "184\n"
          ],
          "name": "stdout"
        }
      ]
    },
    {
      "cell_type": "code",
      "metadata": {
        "id": "UbP2-E5xVYeu",
        "colab_type": "code",
        "outputId": "13449a29-9d8a-422c-d959-26062dff1b0d",
        "colab": {
          "base_uri": "https://localhost:8080/",
          "height": 52
        }
      },
      "source": [
        "%%time\n",
        "# 使用字典的方式来实现\n",
        "train_data = {}\n",
        "\n",
        "# 更新国家名字\n",
        "for i in range(len(country_name)):\n",
        "  train_data[country_name[i]] = []\n",
        "\n",
        "# 按照国家分类数据\n",
        "# 有个比较麻烦的地方，有的国家的数据是细分到省份或者州，所以要加入省份信息，很多国家没有这一行数据，所以可以要进行区分\n",
        "for i in range(data.shape[0]):\n",
        "  # 处理时间特征\n",
        "  date_tmp = pd.to_datetime(data.iloc[i]['Date'], format='%Y-%m-%d',errors = 'coerce')\n",
        "\n",
        "  if pd.isnull(data.iloc[i]['Province_State']):\n",
        "    train_data[data.iloc[i]['Country_Region']].append([date_tmp.month, date_tmp.day, data.iloc[i]['ConfirmedCases'], data.iloc[i]['Fatalities']])\n",
        "  else:\n",
        "    train_data[data.iloc[i]['Country_Region']].append([data.iloc[i]['Province_State'], date_tmp.month, date_tmp.day, data.iloc[i]['ConfirmedCases'], data.iloc[i]['Fatalities']])\n",
        "\n",
        "  # train_data[data.iloc[i]['Country_Region']].append([data.iloc[i]['Date'], data.iloc[i]['ConfirmedCases'], data.iloc[i]['Fatalities']])\n",
        "  # train_data[data.iloc[i]['Country_Region']].append(data.iloc[i]['Date'])\n",
        "  # train_data[data.iloc[i]['Country_Region']].append(data.iloc[i]['ConfirmedCases'])\n",
        "  # train_data[data.iloc[i]['Country_Region']].append(data.iloc[i]['Fatalities'])"
      ],
      "execution_count": 0,
      "outputs": [
        {
          "output_type": "stream",
          "text": [
            "CPU times: user 25.7 s, sys: 23.3 ms, total: 25.7 s\n",
            "Wall time: 25.7 s\n"
          ],
          "name": "stdout"
        }
      ]
    },
    {
      "cell_type": "code",
      "metadata": {
        "id": "msvkfElHSuV5",
        "colab_type": "code",
        "outputId": "3cccf368-a7da-452e-bd81-dd21ff30de2c",
        "colab": {
          "base_uri": "https://localhost:8080/",
          "height": 52
        }
      },
      "source": [
        "%%time\n",
        "train_data = {}\n",
        "country_tmp = ''\n",
        "\n",
        "for i in range(len(range(data.shape[0]))):\n",
        "  country = data.iloc[i]['Country_Region']\n",
        "  if (country != country_tmp):\n",
        "    if not pd.isnull(data.iloc[i]['Province_State']):\n",
        "      train_data[country] = pd.DataFrame([],columns=['Province_State', 'Month','Day', 'ConfirmedCases', 'Fatalities'])\n",
        "    else:\n",
        "      train_data[country] = pd.DataFrame([],columns=['Month','Day', 'ConfirmedCases', 'Fatalities'])\n",
        "    country_tmp = country\n",
        "    continue\n",
        "for i in range(data.shape[0]):\n",
        "  # 处理时间特征\n",
        "  date_tmp = pd.to_datetime(data.iloc[i]['Date'], format='%Y-%m-%d',errors = 'coerce')\n",
        "\n",
        "  if pd.isnull(data.iloc[i]['Province_State']):\n",
        "    train_data[data.iloc[i]['Country_Region']] = train_data[data.iloc[i]['Country_Region']].append(\n",
        "        [{'Month': date_tmp.month, 'Day': date_tmp.day, 'ConfirmedCases': data.iloc[i]['ConfirmedCases'], 'Fatalities': data.iloc[i]['Fatalities']}], \n",
        "        ignore_index = True)\n",
        "  else:\n",
        "    train_data[data.iloc[i]['Country_Region']] = train_data[data.iloc[i]['Country_Region']].append(\n",
        "        [{'Province_State': data.iloc[i]['Province_State'], 'Month': date_tmp.month, 'Day': date_tmp.day, 'ConfirmedCases': data.iloc[i]['ConfirmedCases'], 'Fatalities': data.iloc[i]['Fatalities']}], \n",
        "        ignore_index = True)\n"
      ],
      "execution_count": 6,
      "outputs": [
        {
          "output_type": "stream",
          "text": [
            "CPU times: user 1min 51s, sys: 89.1 ms, total: 1min 52s\n",
            "Wall time: 1min 52s\n"
          ],
          "name": "stdout"
        }
      ]
    },
    {
      "cell_type": "code",
      "metadata": {
        "id": "A4CE058kUQbN",
        "colab_type": "code",
        "outputId": "e7f23e65-e469-4614-e079-34a8aba819e3",
        "colab": {
          "base_uri": "https://localhost:8080/",
          "height": 407
        }
      },
      "source": [
        "# date_tmp = pd.to_datetime(data.iloc[0]['Date'], format='%Y-%m-%d',errors = 'coerce')\n",
        "#         [{'Province_State': 12, 'Month': 3, 'Day': 3, 'ConfirmedCases': 3, 'Fatalities': 3}], \n",
        "#         ignore_index = True)\n",
        "train_data['China']"
      ],
      "execution_count": 8,
      "outputs": [
        {
          "output_type": "execute_result",
          "data": {
            "text/html": [
              "<div>\n",
              "<style scoped>\n",
              "    .dataframe tbody tr th:only-of-type {\n",
              "        vertical-align: middle;\n",
              "    }\n",
              "\n",
              "    .dataframe tbody tr th {\n",
              "        vertical-align: top;\n",
              "    }\n",
              "\n",
              "    .dataframe thead th {\n",
              "        text-align: right;\n",
              "    }\n",
              "</style>\n",
              "<table border=\"1\" class=\"dataframe\">\n",
              "  <thead>\n",
              "    <tr style=\"text-align: right;\">\n",
              "      <th></th>\n",
              "      <th>Province_State</th>\n",
              "      <th>Month</th>\n",
              "      <th>Day</th>\n",
              "      <th>ConfirmedCases</th>\n",
              "      <th>Fatalities</th>\n",
              "    </tr>\n",
              "  </thead>\n",
              "  <tbody>\n",
              "    <tr>\n",
              "      <th>0</th>\n",
              "      <td>Anhui</td>\n",
              "      <td>1</td>\n",
              "      <td>22</td>\n",
              "      <td>1.0</td>\n",
              "      <td>0.0</td>\n",
              "    </tr>\n",
              "    <tr>\n",
              "      <th>1</th>\n",
              "      <td>Anhui</td>\n",
              "      <td>1</td>\n",
              "      <td>23</td>\n",
              "      <td>9.0</td>\n",
              "      <td>0.0</td>\n",
              "    </tr>\n",
              "    <tr>\n",
              "      <th>2</th>\n",
              "      <td>Anhui</td>\n",
              "      <td>1</td>\n",
              "      <td>24</td>\n",
              "      <td>15.0</td>\n",
              "      <td>0.0</td>\n",
              "    </tr>\n",
              "    <tr>\n",
              "      <th>3</th>\n",
              "      <td>Anhui</td>\n",
              "      <td>1</td>\n",
              "      <td>25</td>\n",
              "      <td>39.0</td>\n",
              "      <td>0.0</td>\n",
              "    </tr>\n",
              "    <tr>\n",
              "      <th>4</th>\n",
              "      <td>Anhui</td>\n",
              "      <td>1</td>\n",
              "      <td>26</td>\n",
              "      <td>60.0</td>\n",
              "      <td>0.0</td>\n",
              "    </tr>\n",
              "    <tr>\n",
              "      <th>...</th>\n",
              "      <td>...</td>\n",
              "      <td>...</td>\n",
              "      <td>...</td>\n",
              "      <td>...</td>\n",
              "      <td>...</td>\n",
              "    </tr>\n",
              "    <tr>\n",
              "      <th>2536</th>\n",
              "      <td>Zhejiang</td>\n",
              "      <td>4</td>\n",
              "      <td>3</td>\n",
              "      <td>1260.0</td>\n",
              "      <td>1.0</td>\n",
              "    </tr>\n",
              "    <tr>\n",
              "      <th>2537</th>\n",
              "      <td>Zhejiang</td>\n",
              "      <td>4</td>\n",
              "      <td>4</td>\n",
              "      <td>1262.0</td>\n",
              "      <td>1.0</td>\n",
              "    </tr>\n",
              "    <tr>\n",
              "      <th>2538</th>\n",
              "      <td>Zhejiang</td>\n",
              "      <td>4</td>\n",
              "      <td>5</td>\n",
              "      <td>1263.0</td>\n",
              "      <td>1.0</td>\n",
              "    </tr>\n",
              "    <tr>\n",
              "      <th>2539</th>\n",
              "      <td>Zhejiang</td>\n",
              "      <td>4</td>\n",
              "      <td>6</td>\n",
              "      <td>1264.0</td>\n",
              "      <td>1.0</td>\n",
              "    </tr>\n",
              "    <tr>\n",
              "      <th>2540</th>\n",
              "      <td>Zhejiang</td>\n",
              "      <td>4</td>\n",
              "      <td>7</td>\n",
              "      <td>1265.0</td>\n",
              "      <td>1.0</td>\n",
              "    </tr>\n",
              "  </tbody>\n",
              "</table>\n",
              "<p>2541 rows × 5 columns</p>\n",
              "</div>"
            ],
            "text/plain": [
              "     Province_State Month Day  ConfirmedCases  Fatalities\n",
              "0             Anhui     1  22             1.0         0.0\n",
              "1             Anhui     1  23             9.0         0.0\n",
              "2             Anhui     1  24            15.0         0.0\n",
              "3             Anhui     1  25            39.0         0.0\n",
              "4             Anhui     1  26            60.0         0.0\n",
              "...             ...   ...  ..             ...         ...\n",
              "2536       Zhejiang     4   3          1260.0         1.0\n",
              "2537       Zhejiang     4   4          1262.0         1.0\n",
              "2538       Zhejiang     4   5          1263.0         1.0\n",
              "2539       Zhejiang     4   6          1264.0         1.0\n",
              "2540       Zhejiang     4   7          1265.0         1.0\n",
              "\n",
              "[2541 rows x 5 columns]"
            ]
          },
          "metadata": {
            "tags": []
          },
          "execution_count": 8
        }
      ]
    },
    {
      "cell_type": "code",
      "metadata": {
        "id": "7VxDMPxGtD1V",
        "colab_type": "code",
        "colab": {}
      },
      "source": [
        "# 得到按照国家为关键字的数据字典，都是2020年的数据，所以去掉了年份信息\n",
        "# 不含有省份或者州信息的国家，去掉该栏信息"
      ],
      "execution_count": 0,
      "outputs": []
    },
    {
      "cell_type": "markdown",
      "metadata": {
        "id": "9Wgw2eQx8JBO",
        "colab_type": "text"
      },
      "source": [
        "### 绘图\n",
        "\n",
        "reference: https://www.kaggle.com/saga21/covid-global-forecast-sir-model-ml-regressions#1.-Exploratory-data-analysis-(EDA)-"
      ]
    },
    {
      "cell_type": "code",
      "metadata": {
        "id": "kFJuHh9GiT2N",
        "colab_type": "code",
        "colab": {
          "base_uri": "https://localhost:8080/",
          "height": 307
        },
        "outputId": "c7c1cded-5535-4374-8ac6-00cfb857e201"
      },
      "source": [
        "confirmed_total_date = data.groupby(['Date']).agg({'ConfirmedCases':['sum']}) # 按照日期进行分组，对确诊病例进行累加\n",
        "fatalities_total_date = data.groupby(['Date']).agg({'Fatalities':['sum']})\n",
        "total_date = confirmed_total_date.join(fatalities_total_date)\n",
        "\n",
        "# 绘制成两张图，第一张是确诊病例和死亡人数汇总的，第二章是死亡\n",
        "fig, (ax1, ax2) = plt.subplots(1, 2, figsize=(17,7))\n",
        "total_date.plot()\n",
        "ax1.set_title(\"Global confirmed cases\", size=13)\n",
        "ax1.set_ylabel(\"Number of cases\", size=13)\n",
        "ax1.set_xlabel(\"Date\", size=13)\n",
        "fatalities_total_date.plot(ax=ax2, color='orange')\n",
        "ax2.set_title(\"Global deceased cases\", size=13)\n",
        "ax2.set_ylabel(\"Number of cases\", size=13)\n",
        "ax2.set_xlabel(\"Date\", size=13)"
      ],
      "execution_count": 150,
      "outputs": [
        {
          "output_type": "execute_result",
          "data": {
            "text/plain": [
              "Text(0.5, 20.200000000000003, 'Date')"
            ]
          },
          "metadata": {
            "tags": []
          },
          "execution_count": 150
        },
        {
          "output_type": "display_data",
          "data": {
            "image/png": "[encoded data removed]",
            "text/plain": [
              "<Figure size 432x288 with 1 Axes>"
            ]
          },
          "metadata": {
            "tags": [],
            "needs_background": "light"
          }
        }
      ]
    },
    {
      "cell_type": "code",
      "metadata": {
        "id": "Fr_gdTK5tdVT",
        "colab_type": "code",
        "colab": {}
      },
      "source": [
        "train = data"
      ],
      "execution_count": 0,
      "outputs": []
    },
    {
      "cell_type": "code",
      "metadata": {
        "id": "I9s6m2iGs6ow",
        "colab_type": "code",
        "colab": {
          "base_uri": "https://localhost:8080/",
          "height": 638
        },
        "outputId": "9bc04d32-5f43-4928-8ff3-fe43b6136a52"
      },
      "source": [
        "confirmed_total_date_Italy = train[train['Country_Region']=='Italy'].groupby(['Date']).agg({'ConfirmedCases':['sum']})\n",
        "fatalities_total_date_Italy = train[train['Country_Region']=='Italy'].groupby(['Date']).agg({'Fatalities':['sum']})\n",
        "total_date_Italy = confirmed_total_date_Italy.join(fatalities_total_date_Italy)\n",
        "\n",
        "confirmed_total_date_Spain = train[train['Country_Region']=='Spain'].groupby(['Date']).agg({'ConfirmedCases':['sum']})\n",
        "fatalities_total_date_Spain = train[train['Country_Region']=='Spain'].groupby(['Date']).agg({'Fatalities':['sum']})\n",
        "total_date_Spain = confirmed_total_date_Spain.join(fatalities_total_date_Spain)\n",
        "\n",
        "confirmed_total_date_UK = train[train['Country_Region']=='United Kingdom'].groupby(['Date']).agg({'ConfirmedCases':['sum']})\n",
        "fatalities_total_date_UK = train[train['Country_Region']=='United Kingdom'].groupby(['Date']).agg({'Fatalities':['sum']})\n",
        "total_date_UK = confirmed_total_date_UK.join(fatalities_total_date_UK)\n",
        "\n",
        "confirmed_total_date_Australia = train[train['Country_Region']=='Australia'].groupby(['Date']).agg({'ConfirmedCases':['sum']})\n",
        "fatalities_total_date_Australia = train[train['Country_Region']=='Australia'].groupby(['Date']).agg({'Fatalities':['sum']})\n",
        "total_date_Australia = confirmed_total_date_Australia.join(fatalities_total_date_Australia)\n",
        "\n",
        "confirmed_total_date_Singapore = train[train['Country_Region']=='Singapore'].groupby(['Date']).agg({'ConfirmedCases':['sum']})\n",
        "fatalities_total_date_Singapore = train[train['Country_Region']=='Singapore'].groupby(['Date']).agg({'Fatalities':['sum']})\n",
        "total_date_Singapore = confirmed_total_date_Singapore.join(fatalities_total_date_Singapore)\n",
        "\n",
        "plt.figure(figsize=(17,10))\n",
        "plt.subplot(2, 2, 1)\n",
        "total_date_Italy.plot(ax=plt.gca(), title='Italy')\n",
        "plt.ylabel(\"Confirmed infection cases\", size=13)\n",
        "\n",
        "plt.subplot(2, 2, 2)\n",
        "total_date_Spain.plot(ax=plt.gca(), title='Spain')\n",
        "\n",
        "plt.subplot(2, 2, 3)\n",
        "total_date_UK.plot(ax=plt.gca(), title='United Kingdom')\n",
        "plt.ylabel(\"Confirmed infection cases\", size=13)\n",
        "\n",
        "plt.subplot(2, 2, 4)\n",
        "total_date_Singapore.plot(ax=plt.gca(), title='Singapore')"
      ],
      "execution_count": 173,
      "outputs": [
        {
          "output_type": "execute_result",
          "data": {
            "text/plain": [
              "<matplotlib.axes._subplots.AxesSubplot at 0x7f655c1499e8>"
            ]
          },
          "metadata": {
            "tags": []
          },
          "execution_count": 173
        },
        {
          "output_type": "display_data",
          "data": {
            "image/png": "[encoded data removed]",
            "text/plain": [
              "<Figure size 1224x720 with 4 Axes>"
            ]
          },
          "metadata": {
            "tags": [],
            "needs_background": "light"
          }
        }
      ]
    },
    {
      "cell_type": "markdown",
      "metadata": {
        "id": "RwkW6K1L68bn",
        "colab_type": "text"
      },
      "source": [
        "# 思路\n",
        "\n",
        "提供的是每个国家的按照时间推移的确诊病例数量，所以可以考虑分别对每个国家进行分别训练，但是这样也存在问题就是，个别国家的统计的数据量较少，预测的准确性上需要验证"
      ]
    },
    {
      "cell_type": "markdown",
      "metadata": {
        "id": "FYxdh5hz85Lu",
        "colab_type": "text"
      },
      "source": [
        "将日期分割为月和天，有身份信息的再将其省份转换为数值特征，然后对Month, Day, Province都进行Onehot编码，然后进行训练\n",
        "\n",
        "这个处理方法训练得到的结果，效果都很差"
      ]
    },
    {
      "cell_type": "code",
      "metadata": {
        "id": "qLpRBoepNV6m",
        "colab_type": "code",
        "colab": {}
      },
      "source": [
        "from sklearn.preprocessing import OneHotEncoder\n",
        "from sklearn.preprocessing import LabelBinarizer\n",
        "\n",
        "month_encoder = OneHotEncoder()\n",
        "month_1hot = month_encoder.fit_transform(train_data['Spain']['Month'].values.reshape(-1,1))\n",
        "day_encoder = OneHotEncoder()\n",
        "day_1hot = day_encoder.fit_transform(train_data['Spain']['Day'].values.reshape(-1,1))\n",
        "\n",
        "# 对于类别特征，先要转化成数值特征，然后在OneHot编码，使用LabelBinarizer内在包含了这两步\n",
        "# prov_encoder = LabelBinarizer()\n",
        "# province_1hot = prov_encoder.fit_transform(train_data['Spain']['Province_State'])\n",
        "\n",
        "# print(province_1hot.shape, \" \", month_1hot.shape, \" \", day_1hot.shape) # (2541, 33)   (2541, 4)   (2541, 31)\n",
        "\n",
        "# 将所有的数据统一到一个矩阵中\n",
        "data_prepared = np.hstack((month_1hot.toarray(), day_1hot.toarray(), train_data['Spain']['ConfirmedCases'].values.reshape(-1, 1), train_data['Spain']['Fatalities'].values.reshape(-1, 1)))"
      ],
      "execution_count": 0,
      "outputs": []
    },
    {
      "cell_type": "code",
      "metadata": {
        "id": "cfi88c6nIWLq",
        "colab_type": "code",
        "colab": {}
      },
      "source": [
        "x = data_prepared[:,:-2]; y = data_prepared[:,-2:-1]"
      ],
      "execution_count": 0,
      "outputs": []
    },
    {
      "cell_type": "code",
      "metadata": {
        "id": "deWT10NF230m",
        "colab_type": "code",
        "colab": {
          "base_uri": "https://localhost:8080/",
          "height": 282
        },
        "outputId": "700620ca-57af-46ba-b80e-f9a22f97b5fb"
      },
      "source": [
        "plt.plot(y)"
      ],
      "execution_count": 159,
      "outputs": [
        {
          "output_type": "execute_result",
          "data": {
            "text/plain": [
              "[<matplotlib.lines.Line2D at 0x7f655c174ef0>]"
            ]
          },
          "metadata": {
            "tags": []
          },
          "execution_count": 159
        },
        {
          "output_type": "display_data",
          "data": {
            "image/png": "[encoded data removed]",
            "text/plain": [
              "<Figure size 432x288 with 1 Axes>"
            ]
          },
          "metadata": {
            "tags": [],
            "needs_background": "light"
          }
        }
      ]
    },
    {
      "cell_type": "code",
      "metadata": {
        "id": "bdF744zxEEMh",
        "colab_type": "code",
        "colab": {}
      },
      "source": [
        "from sklearn.model_selection import train_test_split\n",
        "\n",
        "x_train, x_test, y_train, y_test = train_test_split(x, y, test_size=0.2)\n"
      ],
      "execution_count": 0,
      "outputs": []
    },
    {
      "cell_type": "code",
      "metadata": {
        "id": "x6yVvZZLE2Ed",
        "colab_type": "code",
        "colab": {}
      },
      "source": [
        "import matplotlib.pyplot as plt\n",
        "from sklearn.metrics import mean_squared_error\n",
        "def plot_learning_curves(model, X, y):\n",
        "  X_train, X_val, y_train, y_val = train_test_split(X, y, test_size=0.2)\n",
        "  train_errors, val_errors = [], []\n",
        "  for m in range(1, len(X_train)):\n",
        "    model.fit(X_train[:m], y_train[:m])\n",
        "    y_train_predict = model.predict(X_train[:m])\n",
        "    y_val_predict = model.predict(X_val)\n",
        "    train_errors.append(mean_squared_error(y_train_predict, y_train[:m]))\n",
        "    val_errors.append(mean_squared_error(y_val_predict, y_val))\n",
        "  plt.plot(np.sqrt(train_errors), \"r-+\", linewidth=2, label=\"train\")\n",
        "  plt.plot(np.sqrt(val_errors), \"b-\", linewidth=3, label=\"val\")"
      ],
      "execution_count": 0,
      "outputs": []
    },
    {
      "cell_type": "code",
      "metadata": {
        "id": "EUIHOZhOEh-O",
        "colab_type": "code",
        "colab": {
          "base_uri": "https://localhost:8080/",
          "height": 276
        },
        "outputId": "fd3cb20f-a63b-4b39-8070-6c8e8e0e9bb8"
      },
      "source": [
        "from sklearn.linear_model import LinearRegression\n",
        "lin_reg = LinearRegression()\n",
        "plot_learning_curves(lin_reg, x, y)"
      ],
      "execution_count": 158,
      "outputs": [
        {
          "output_type": "display_data",
          "data": {
            "image/png": "[encoded data removed]",
            "text/plain": [
              "<Figure size 432x288 with 1 Axes>"
            ]
          },
          "metadata": {
            "tags": [],
            "needs_background": "light"
          }
        }
      ]
    },
    {
      "cell_type": "code",
      "metadata": {
        "id": "ejmq-uMOc8Qg",
        "colab_type": "code",
        "colab": {
          "base_uri": "https://localhost:8080/",
          "height": 35
        },
        "outputId": "d915d597-7f4e-40c1-d159-f98c045dbe05"
      },
      "source": [
        "lin_reg.fit(x_train, y_train)"
      ],
      "execution_count": 162,
      "outputs": [
        {
          "output_type": "execute_result",
          "data": {
            "text/plain": [
              "LinearRegression(copy_X=True, fit_intercept=True, n_jobs=None, normalize=False)"
            ]
          },
          "metadata": {
            "tags": []
          },
          "execution_count": 162
        }
      ]
    },
    {
      "cell_type": "code",
      "metadata": {
        "id": "vh8ZJfdtdBRo",
        "colab_type": "code",
        "colab": {
          "base_uri": "https://localhost:8080/",
          "height": 35
        },
        "outputId": "7e48ec60-fed8-4595-b327-fae55e2c96de"
      },
      "source": [
        "y_pred = lin_reg.predict(x_train)\n",
        "print(mean_squared_error(y_pred, y_train))"
      ],
      "execution_count": 163,
      "outputs": [
        {
          "output_type": "stream",
          "text": [
            "136114497.13114753\n"
          ],
          "name": "stdout"
        }
      ]
    },
    {
      "cell_type": "code",
      "metadata": {
        "id": "wdP2RrZJ4Z9Z",
        "colab_type": "code",
        "colab": {
          "base_uri": "https://localhost:8080/",
          "height": 259
        },
        "outputId": "471a9385-b57b-4d19-9154-de0ddc4d5d15"
      },
      "source": [
        "print(y_pred.reshape(1,-1))\n",
        "print(y_train.reshape(1,-1))"
      ],
      "execution_count": 169,
      "outputs": [
        {
          "output_type": "stream",
          "text": [
            "[[ -2272.  -9168.  -7744.  -9776.   8592.    128.   2496.    -16.  23792.\n",
            "   44416.  19296.  20688.  14208.  -7824.  10640.  -7696. -14640.  43360.\n",
            "   46896.  18320.   6192. 122768.  25392. 130464.  -9984.  -9456.  14512.\n",
            "     -16. 126976.  -4336.  11168.  12928.  11424.  49184.  32048. 128688.\n",
            "    5600.  26272.  10352.  12800. 120368.  52288.    208.  38944.  10848.\n",
            "   11456.  -3360.  28560.  -1328. -12032.   3520. 138320.  -6112. -14432.\n",
            "   -6416.  67376.  95968.    -16.  -3328.  17264. -10272.]]\n",
            "[[     0.      2.      0.      2.    165.      0.      0.      2.     15.\n",
            "   65719.  17963.      0.   7798.      1.    673.      2.      0.  39885.\n",
            "   73235.      6.    120. 119199.  25374. 126168.      1.      2.    400.\n",
            "       2. 131646.      1.   1695.   5232.      2.  80110.  28768. 136675.\n",
            "       0.     32.     84.    259. 112065.  57786.      0.  49515.   1073.\n",
            "    2277.      2.     45.      2.      1.      1. 141942.      1.      1.\n",
            "       2.  87956.  95923.      2.      0.  13910.      1.]]\n"
          ],
          "name": "stdout"
        }
      ]
    },
    {
      "cell_type": "code",
      "metadata": {
        "id": "ytzVzhCoGOXN",
        "colab_type": "code",
        "colab": {}
      },
      "source": [
        "import numpy as np\n",
        "np.set_printoptions(suppress=True)"
      ],
      "execution_count": 0,
      "outputs": []
    },
    {
      "cell_type": "code",
      "metadata": {
        "id": "SgpjBilJRnoo",
        "colab_type": "code",
        "colab": {}
      },
      "source": [
        "from sklearn.linear_model import Lasso\n",
        "lasso_reg = Lasso(alpha=0.6)\n",
        "lasso_reg.fit(x_train, y_train)"
      ],
      "execution_count": 0,
      "outputs": []
    },
    {
      "cell_type": "code",
      "metadata": {
        "id": "S2k5DUwjR11_",
        "colab_type": "code",
        "colab": {
          "base_uri": "https://localhost:8080/",
          "height": 35
        },
        "outputId": "9930c40a-6a5d-47a2-aebb-2e0a5773678d"
      },
      "source": [
        "lasso_reg.predict([x[50]])"
      ],
      "execution_count": 165,
      "outputs": [
        {
          "output_type": "execute_result",
          "data": {
            "text/plain": [
              "array([11460.29417803])"
            ]
          },
          "metadata": {
            "tags": []
          },
          "execution_count": 165
        }
      ]
    },
    {
      "cell_type": "code",
      "metadata": {
        "id": "koBLjktUX9N-",
        "colab_type": "code",
        "colab": {}
      },
      "source": [
        "y_pred = lasso_reg.predict(x_test)"
      ],
      "execution_count": 0,
      "outputs": []
    },
    {
      "cell_type": "code",
      "metadata": {
        "id": "nxWqfTqaXvd0",
        "colab_type": "code",
        "colab": {
          "base_uri": "https://localhost:8080/",
          "height": 35
        },
        "outputId": "cc1d060d-72f0-4fde-df5d-2ad9e1dcee38"
      },
      "source": [
        "mean_squared_error(y_pred, y_test)"
      ],
      "execution_count": 116,
      "outputs": [
        {
          "output_type": "execute_result",
          "data": {
            "text/plain": [
              "19324007.171580296"
            ]
          },
          "metadata": {
            "tags": []
          },
          "execution_count": 116
        }
      ]
    },
    {
      "cell_type": "code",
      "metadata": {
        "id": "GUptwB-qR9MS",
        "colab_type": "code",
        "colab": {
          "base_uri": "https://localhost:8080/",
          "height": 35
        },
        "outputId": "d8f2d8cb-234c-42e6-e86d-e1fef86bd179"
      },
      "source": [
        "y[50]"
      ],
      "execution_count": 166,
      "outputs": [
        {
          "output_type": "execute_result",
          "data": {
            "text/plain": [
              "array([2277.])"
            ]
          },
          "metadata": {
            "tags": []
          },
          "execution_count": 166
        }
      ]
    },
    {
      "cell_type": "code",
      "metadata": {
        "id": "8qQ2Z0JKFkV-",
        "colab_type": "code",
        "colab": {
          "base_uri": "https://localhost:8080/",
          "height": 69
        },
        "outputId": "d6318dd7-dc6c-43da-bc4f-11ddd5002fb1"
      },
      "source": [
        "from sklearn.linear_model import ElasticNet\n",
        "elastic_net = ElasticNet(alpha=0.1, l1_ratio=0.5)\n",
        "elastic_net.fit(x_train, y_train)"
      ],
      "execution_count": 114,
      "outputs": [
        {
          "output_type": "execute_result",
          "data": {
            "text/plain": [
              "ElasticNet(alpha=0.1, copy_X=True, fit_intercept=True, l1_ratio=0.5,\n",
              "           max_iter=1000, normalize=False, positive=False, precompute=False,\n",
              "           random_state=None, selection='cyclic', tol=0.0001, warm_start=False)"
            ]
          },
          "metadata": {
            "tags": []
          },
          "execution_count": 114
        }
      ]
    },
    {
      "cell_type": "code",
      "metadata": {
        "id": "8AJZ6gb4F0J0",
        "colab_type": "code",
        "colab": {}
      },
      "source": [
        "y_pred = elastic_net.predict(x_test)"
      ],
      "execution_count": 0,
      "outputs": []
    },
    {
      "cell_type": "code",
      "metadata": {
        "id": "QAzKvLatGQX5",
        "colab_type": "code",
        "colab": {
          "base_uri": "https://localhost:8080/",
          "height": 35
        },
        "outputId": "3df6eb12-82fd-4bdc-b69b-eeb46aca095b"
      },
      "source": [
        "y[100]"
      ],
      "execution_count": 86,
      "outputs": [
        {
          "output_type": "execute_result",
          "data": {
            "text/plain": [
              "array([372.,   3.])"
            ]
          },
          "metadata": {
            "tags": []
          },
          "execution_count": 86
        }
      ]
    },
    {
      "cell_type": "code",
      "metadata": {
        "id": "1ZcRiCP-GaCN",
        "colab_type": "code",
        "colab": {
          "base_uri": "https://localhost:8080/",
          "height": 138
        },
        "outputId": "a9a8d77b-488f-43c4-ef8b-a50b9d1dd300"
      },
      "source": [
        "y"
      ],
      "execution_count": 59,
      "outputs": [
        {
          "output_type": "execute_result",
          "data": {
            "text/plain": [
              "array([[1264.,    1.],\n",
              "       [1264.,    1.],\n",
              "       [1264.,    1.],\n",
              "       ...,\n",
              "       [1264.,    1.],\n",
              "       [1264.,    1.],\n",
              "       [1265.,    1.]])"
            ]
          },
          "metadata": {
            "tags": []
          },
          "execution_count": 59
        }
      ]
    },
    {
      "cell_type": "code",
      "metadata": {
        "id": "DeozBanfMdkI",
        "colab_type": "code",
        "colab": {}
      },
      "source": [
        "# 利用线性回归来测试\n",
        "from sklearn.linear_model import ridge_regression\n",
        "ridge_regression(x, y)"
      ],
      "execution_count": 0,
      "outputs": []
    },
    {
      "cell_type": "code",
      "metadata": {
        "id": "3YYOLbVf56G8",
        "colab_type": "code",
        "colab": {
          "base_uri": "https://localhost:8080/",
          "height": 155
        },
        "outputId": "b1c05534-5dbf-46e8-865c-25d0e95a86db"
      },
      "source": [
        "from xgboost import XGBRegressor\n",
        "model = XGBRegressor(n_estimators=1000)\n",
        "model.fit(x_train, y_train)"
      ],
      "execution_count": 170,
      "outputs": [
        {
          "output_type": "stream",
          "text": [
            "[11:03:26] WARNING: /workspace/src/objective/regression_obj.cu:152: reg:linear is now deprecated in favor of reg:squarederror.\n"
          ],
          "name": "stdout"
        },
        {
          "output_type": "execute_result",
          "data": {
            "text/plain": [
              "XGBRegressor(base_score=0.5, booster='gbtree', colsample_bylevel=1,\n",
              "             colsample_bynode=1, colsample_bytree=1, gamma=0,\n",
              "             importance_type='gain', learning_rate=0.1, max_delta_step=0,\n",
              "             max_depth=3, min_child_weight=1, missing=None, n_estimators=1000,\n",
              "             n_jobs=1, nthread=None, objective='reg:linear', random_state=0,\n",
              "             reg_alpha=0, reg_lambda=1, scale_pos_weight=1, seed=None,\n",
              "             silent=None, subsample=1, verbosity=1)"
            ]
          },
          "metadata": {
            "tags": []
          },
          "execution_count": 170
        }
      ]
    },
    {
      "cell_type": "code",
      "metadata": {
        "id": "bvSERoDK6JVJ",
        "colab_type": "code",
        "colab": {
          "base_uri": "https://localhost:8080/",
          "height": 86
        },
        "outputId": "b8542153-930c-443b-fbca-c1857ca4da3d"
      },
      "source": [
        "model.predict(x_test)"
      ],
      "execution_count": 171,
      "outputs": [
        {
          "output_type": "execute_result",
          "data": {
            "text/plain": [
              "array([ -1003.4467,   4841.5327,  19891.713 ,  18868.785 ,  60870.367 ,\n",
              "        16673.916 ,  19906.63  ,  19968.178 ,  18868.785 ,  22127.988 ,\n",
              "        35821.996 ,  -1003.4467,  19163.93  ,   1983.8649, 116955.71  ,\n",
              "        28016.8   ], dtype=float32)"
            ]
          },
          "metadata": {
            "tags": []
          },
          "execution_count": 171
        }
      ]
    },
    {
      "cell_type": "code",
      "metadata": {
        "id": "ZB8bd0sS6LoO",
        "colab_type": "code",
        "colab": {
          "base_uri": "https://localhost:8080/",
          "height": 294
        },
        "outputId": "0010084f-a8c6-44ba-d26c-3fc2cb0ca0eb"
      },
      "source": [
        "y_test"
      ],
      "execution_count": 172,
      "outputs": [
        {
          "output_type": "execute_result",
          "data": {
            "text/plain": [
              "array([[     2.],\n",
              "       [     2.],\n",
              "       [  9942.],\n",
              "       [ 11748.],\n",
              "       [     0.],\n",
              "       [   222.],\n",
              "       [  2277.],\n",
              "       [ 20410.],\n",
              "       [  6391.],\n",
              "       [ 35136.],\n",
              "       [    13.],\n",
              "       [     2.],\n",
              "       [     2.],\n",
              "       [     2.],\n",
              "       [104118.],\n",
              "       [   500.]])"
            ]
          },
          "metadata": {
            "tags": []
          },
          "execution_count": 172
        }
      ]
    },
    {
      "cell_type": "code",
      "metadata": {
        "id": "PcGpaGtvXscE",
        "colab_type": "code",
        "colab": {
          "base_uri": "https://localhost:8080/",
          "height": 155
        },
        "outputId": "ba09a86d-da06-419d-8514-868806027ce6"
      },
      "source": [
        "from sklearn.pipeline import Pipeline\n",
        "from sklearn.preprocessing import PolynomialFeatures\n",
        "\n",
        "def PolyLin(degree):\n",
        "    return Pipeline(\n",
        "    [\n",
        "        (\"poly\",PolynomialFeatures(degree=degree)),\n",
        "        (\"Linearmodel\",LinearRegression())\n",
        "    ])\n",
        "lin_3 = PolyLin(degree=3)\n",
        "lin_3.fit(x_train,y_train)\n"
      ],
      "execution_count": 234,
      "outputs": [
        {
          "output_type": "execute_result",
          "data": {
            "text/plain": [
              "Pipeline(memory=None,\n",
              "         steps=[('poly',\n",
              "                 PolynomialFeatures(degree=3, include_bias=True,\n",
              "                                    interaction_only=False, order='C')),\n",
              "                ('Linearmodel',\n",
              "                 LinearRegression(copy_X=True, fit_intercept=True, n_jobs=None,\n",
              "                                  normalize=False))],\n",
              "         verbose=False)"
            ]
          },
          "metadata": {
            "tags": []
          },
          "execution_count": 234
        }
      ]
    },
    {
      "cell_type": "code",
      "metadata": {
        "id": "gFJaryAwX-k8",
        "colab_type": "code",
        "colab": {}
      },
      "source": [
        "y_predict3 = lin_3.predict(x_train)"
      ],
      "execution_count": 0,
      "outputs": []
    },
    {
      "cell_type": "code",
      "metadata": {
        "id": "GpWPYnMPYSyz",
        "colab_type": "code",
        "colab": {
          "base_uri": "https://localhost:8080/",
          "height": 35
        },
        "outputId": "788910bf-b2d9-45a2-f3d5-1c5043ea8c3c"
      },
      "source": [
        "y_predict3[0]"
      ],
      "execution_count": 236,
      "outputs": [
        {
          "output_type": "execute_result",
          "data": {
            "text/plain": [
              "array([673.])"
            ]
          },
          "metadata": {
            "tags": []
          },
          "execution_count": 236
        }
      ]
    },
    {
      "cell_type": "code",
      "metadata": {
        "id": "Gj49YmrhZ8kU",
        "colab_type": "code",
        "colab": {
          "base_uri": "https://localhost:8080/",
          "height": 35
        },
        "outputId": "fe03930c-d6af-4f45-dffc-84c001eee9b0"
      },
      "source": [
        "y_train[0]"
      ],
      "execution_count": 237,
      "outputs": [
        {
          "output_type": "execute_result",
          "data": {
            "text/plain": [
              "array([673.])"
            ]
          },
          "metadata": {
            "tags": []
          },
          "execution_count": 237
        }
      ]
    },
    {
      "cell_type": "code",
      "metadata": {
        "id": "FU3dZqDHYfA8",
        "colab_type": "code",
        "colab": {
          "base_uri": "https://localhost:8080/",
          "height": 259
        },
        "outputId": "fbf04adb-0bd4-4468-80d3-094a3eb3e69a"
      },
      "source": [
        "print(y_train.reshape(1,-1))\n",
        "print(y_predict3.reshape(1,-1))"
      ],
      "execution_count": 238,
      "outputs": [
        {
          "output_type": "stream",
          "text": [
            "[[   673.      1.      0.  80110.  11748.  73235.      6. 126168.      2.\n",
            "   95923.    120.     15.     84.  65719.      2.      2.      1.   1695.\n",
            "       2. 112065.      2.      1.    400.    500.  87956.      1.      1.\n",
            "   28768.      0.   1073.     32.   2277.      0. 136675.      1.      0.\n",
            "       2.      2.      1.      2.  17963.      0.      1.  35136.     13.\n",
            "   25374.   6391.      0.      2. 104118. 141942.      0.      0.      2.\n",
            "   39885.      0.    259.  20410.    165.      2.      0.]]\n",
            "[[   673.      1.      0.  80110.  11748.  73235.      6. 126168.      2.\n",
            "   95923.    120.     15.     84.  65719.      2.      2.      1.   1695.\n",
            "       2. 112065.      2.      1.    400.    500.  87956.      1.      1.\n",
            "   28768.      0.   1073.     32.   2277.     -0. 136675.      1.     -0.\n",
            "       2.      2.      1.      2.  17963.     -0.      1.  35136.     13.\n",
            "   25374.   6391.      0.      2. 104118. 141942.     -0.     -0.      2.\n",
            "   39885.      0.    259.  20410.    165.      2.     -0.]]\n"
          ],
          "name": "stdout"
        }
      ]
    },
    {
      "cell_type": "code",
      "metadata": {
        "id": "YXemKiYyapYO",
        "colab_type": "code",
        "colab": {}
      },
      "source": [
        "plt.plot()"
      ],
      "execution_count": 0,
      "outputs": []
    },
    {
      "cell_type": "code",
      "metadata": {
        "id": "7pWz_aGJYFQ5",
        "colab_type": "code",
        "colab": {
          "base_uri": "https://localhost:8080/",
          "height": 35
        },
        "outputId": "55405391-26fe-42de-9f33-e0f0f53d8a6f"
      },
      "source": [
        "print(mean_squared_error(y_train, y_predict3))"
      ],
      "execution_count": 239,
      "outputs": [
        {
          "output_type": "stream",
          "text": [
            "5.316042998728334e-20\n"
          ],
          "name": "stdout"
        }
      ]
    },
    {
      "cell_type": "markdown",
      "metadata": {
        "id": "Qsp5-j4YELFL",
        "colab_type": "text"
      },
      "source": [
        "## Reference\n",
        "\n",
        "https://www.kaggle.com/abhijithchandradas/global-forcast-covid19-logisticregression"
      ]
    },
    {
      "cell_type": "code",
      "metadata": {
        "id": "Kv3HXENkEKjB",
        "colab_type": "code",
        "colab": {
          "base_uri": "https://localhost:8080/",
          "height": 69
        },
        "outputId": "7d8cd01a-493b-4e45-e86d-8ee4ade7b1d2"
      },
      "source": [
        "df_train = pd.read_csv('train.csv')\n",
        "df_test = pd.read_csv('test.csv')\n",
        "df_sub = pd.read_csv('submission.csv')\n",
        "\n",
        "print(df_train.shape)\n",
        "print(df_test.shape)\n",
        "print(df_sub.shape)"
      ],
      "execution_count": 174,
      "outputs": [
        {
          "output_type": "stream",
          "text": [
            "(25040, 6)\n",
            "(13459, 4)\n",
            "(13459, 3)\n"
          ],
          "name": "stdout"
        }
      ]
    },
    {
      "cell_type": "code",
      "metadata": {
        "id": "cCFFtqKoEsWr",
        "colab_type": "code",
        "colab": {
          "base_uri": "https://localhost:8080/",
          "height": 69
        },
        "outputId": "0d474491-a2b7-48bc-880d-3ac5586e59cb"
      },
      "source": [
        "print(\"Unique Countries:\", len(df_train.Country_Region.unique()))\n",
        "print(\"Period:\", len(df_train.Date.unique()))\n",
        "print(\"From:\", df_train.Date.min(), \"To:\", df_train.Date.max())"
      ],
      "execution_count": 176,
      "outputs": [
        {
          "output_type": "stream",
          "text": [
            "Unique Countries: 184\n",
            "Period: 80\n",
            "From: 2020-01-22 To: 2020-04-10\n"
          ],
          "name": "stdout"
        }
      ]
    },
    {
      "cell_type": "code",
      "metadata": {
        "id": "SVbP4UusFJKy",
        "colab_type": "code",
        "colab": {
          "base_uri": "https://localhost:8080/",
          "height": 494
        },
        "outputId": "5cbb48c5-72e3-4466-abc7-64304115fddf"
      },
      "source": [
        "# 给的数据国家地区这一栏不为空，都有信息\n",
        "# print(f\"Number of rows without Country_Region : {df_train.Country_Region.isna().sum()}\")\n",
        "\n",
        "df_train[\"UniqueRegion\"]=df_train.Country_Region # 新增一行\n",
        "df_train.UniqueRegion[df_train.Province_State.isna()==False]=df_train.Province_State+\" , \"+df_train.Country_Region\n",
        "df_train[df_train.Province_State.isna()==False]"
      ],
      "execution_count": 178,
      "outputs": [
        {
          "output_type": "stream",
          "text": [
            "/usr/local/lib/python3.6/dist-packages/ipykernel_launcher.py:3: SettingWithCopyWarning: \n",
            "A value is trying to be set on a copy of a slice from a DataFrame\n",
            "\n",
            "See the caveats in the documentation: https://pandas.pydata.org/pandas-docs/stable/user_guide/indexing.html#returning-a-view-versus-a-copy\n",
            "  This is separate from the ipykernel package so we can avoid doing imports until\n"
          ],
          "name": "stderr"
        },
        {
          "output_type": "execute_result",
          "data": {
            "text/html": [
              "<div>\n",
              "<style scoped>\n",
              "    .dataframe tbody tr th:only-of-type {\n",
              "        vertical-align: middle;\n",
              "    }\n",
              "\n",
              "    .dataframe tbody tr th {\n",
              "        vertical-align: top;\n",
              "    }\n",
              "\n",
              "    .dataframe thead th {\n",
              "        text-align: right;\n",
              "    }\n",
              "</style>\n",
              "<table border=\"1\" class=\"dataframe\">\n",
              "  <thead>\n",
              "    <tr style=\"text-align: right;\">\n",
              "      <th></th>\n",
              "      <th>Id</th>\n",
              "      <th>Province_State</th>\n",
              "      <th>Country_Region</th>\n",
              "      <th>Date</th>\n",
              "      <th>ConfirmedCases</th>\n",
              "      <th>Fatalities</th>\n",
              "      <th>UniqueRegion</th>\n",
              "    </tr>\n",
              "  </thead>\n",
              "  <tbody>\n",
              "    <tr>\n",
              "      <th>640</th>\n",
              "      <td>913</td>\n",
              "      <td>Australian Capital Territory</td>\n",
              "      <td>Australia</td>\n",
              "      <td>2020-01-22</td>\n",
              "      <td>0.0</td>\n",
              "      <td>0.0</td>\n",
              "      <td>Australian Capital Territory , Australia</td>\n",
              "    </tr>\n",
              "    <tr>\n",
              "      <th>641</th>\n",
              "      <td>914</td>\n",
              "      <td>Australian Capital Territory</td>\n",
              "      <td>Australia</td>\n",
              "      <td>2020-01-23</td>\n",
              "      <td>0.0</td>\n",
              "      <td>0.0</td>\n",
              "      <td>Australian Capital Territory , Australia</td>\n",
              "    </tr>\n",
              "    <tr>\n",
              "      <th>642</th>\n",
              "      <td>915</td>\n",
              "      <td>Australian Capital Territory</td>\n",
              "      <td>Australia</td>\n",
              "      <td>2020-01-24</td>\n",
              "      <td>0.0</td>\n",
              "      <td>0.0</td>\n",
              "      <td>Australian Capital Territory , Australia</td>\n",
              "    </tr>\n",
              "    <tr>\n",
              "      <th>643</th>\n",
              "      <td>916</td>\n",
              "      <td>Australian Capital Territory</td>\n",
              "      <td>Australia</td>\n",
              "      <td>2020-01-25</td>\n",
              "      <td>0.0</td>\n",
              "      <td>0.0</td>\n",
              "      <td>Australian Capital Territory , Australia</td>\n",
              "    </tr>\n",
              "    <tr>\n",
              "      <th>644</th>\n",
              "      <td>917</td>\n",
              "      <td>Australian Capital Territory</td>\n",
              "      <td>Australia</td>\n",
              "      <td>2020-01-26</td>\n",
              "      <td>0.0</td>\n",
              "      <td>0.0</td>\n",
              "      <td>Australian Capital Territory , Australia</td>\n",
              "    </tr>\n",
              "    <tr>\n",
              "      <th>...</th>\n",
              "      <td>...</td>\n",
              "      <td>...</td>\n",
              "      <td>...</td>\n",
              "      <td>...</td>\n",
              "      <td>...</td>\n",
              "      <td>...</td>\n",
              "      <td>...</td>\n",
              "    </tr>\n",
              "    <tr>\n",
              "      <th>24315</th>\n",
              "      <td>34618</td>\n",
              "      <td>Turks and Caicos Islands</td>\n",
              "      <td>United Kingdom</td>\n",
              "      <td>2020-04-06</td>\n",
              "      <td>8.0</td>\n",
              "      <td>1.0</td>\n",
              "      <td>Turks and Caicos Islands , United Kingdom</td>\n",
              "    </tr>\n",
              "    <tr>\n",
              "      <th>24316</th>\n",
              "      <td>34619</td>\n",
              "      <td>Turks and Caicos Islands</td>\n",
              "      <td>United Kingdom</td>\n",
              "      <td>2020-04-07</td>\n",
              "      <td>8.0</td>\n",
              "      <td>1.0</td>\n",
              "      <td>Turks and Caicos Islands , United Kingdom</td>\n",
              "    </tr>\n",
              "    <tr>\n",
              "      <th>24317</th>\n",
              "      <td>34620</td>\n",
              "      <td>Turks and Caicos Islands</td>\n",
              "      <td>United Kingdom</td>\n",
              "      <td>2020-04-08</td>\n",
              "      <td>8.0</td>\n",
              "      <td>1.0</td>\n",
              "      <td>Turks and Caicos Islands , United Kingdom</td>\n",
              "    </tr>\n",
              "    <tr>\n",
              "      <th>24318</th>\n",
              "      <td>34621</td>\n",
              "      <td>Turks and Caicos Islands</td>\n",
              "      <td>United Kingdom</td>\n",
              "      <td>2020-04-09</td>\n",
              "      <td>8.0</td>\n",
              "      <td>1.0</td>\n",
              "      <td>Turks and Caicos Islands , United Kingdom</td>\n",
              "    </tr>\n",
              "    <tr>\n",
              "      <th>24319</th>\n",
              "      <td>34622</td>\n",
              "      <td>Turks and Caicos Islands</td>\n",
              "      <td>United Kingdom</td>\n",
              "      <td>2020-04-10</td>\n",
              "      <td>8.0</td>\n",
              "      <td>1.0</td>\n",
              "      <td>Turks and Caicos Islands , United Kingdom</td>\n",
              "    </tr>\n",
              "  </tbody>\n",
              "</table>\n",
              "<p>10640 rows × 7 columns</p>\n",
              "</div>"
            ],
            "text/plain": [
              "          Id  ...                               UniqueRegion\n",
              "640      913  ...   Australian Capital Territory , Australia\n",
              "641      914  ...   Australian Capital Territory , Australia\n",
              "642      915  ...   Australian Capital Territory , Australia\n",
              "643      916  ...   Australian Capital Territory , Australia\n",
              "644      917  ...   Australian Capital Territory , Australia\n",
              "...      ...  ...                                        ...\n",
              "24315  34618  ...  Turks and Caicos Islands , United Kingdom\n",
              "24316  34619  ...  Turks and Caicos Islands , United Kingdom\n",
              "24317  34620  ...  Turks and Caicos Islands , United Kingdom\n",
              "24318  34621  ...  Turks and Caicos Islands , United Kingdom\n",
              "24319  34622  ...  Turks and Caicos Islands , United Kingdom\n",
              "\n",
              "[10640 rows x 7 columns]"
            ]
          },
          "metadata": {
            "tags": []
          },
          "execution_count": 178
        }
      ]
    },
    {
      "cell_type": "code",
      "metadata": {
        "id": "p2m_RfloFwde",
        "colab_type": "code",
        "colab": {
          "base_uri": "https://localhost:8080/",
          "height": 407
        },
        "outputId": "60ac0c3b-6169-4a1e-eedc-484d02f77b04"
      },
      "source": [
        "# 丢弃掉Id，Province_State,Country_Region这几列\n",
        "df_train.drop(labels=['Id', 'Province_State', 'Country_Region'], axis=1, inplace=True)\n",
        "df_train"
      ],
      "execution_count": 179,
      "outputs": [
        {
          "output_type": "execute_result",
          "data": {
            "text/html": [
              "<div>\n",
              "<style scoped>\n",
              "    .dataframe tbody tr th:only-of-type {\n",
              "        vertical-align: middle;\n",
              "    }\n",
              "\n",
              "    .dataframe tbody tr th {\n",
              "        vertical-align: top;\n",
              "    }\n",
              "\n",
              "    .dataframe thead th {\n",
              "        text-align: right;\n",
              "    }\n",
              "</style>\n",
              "<table border=\"1\" class=\"dataframe\">\n",
              "  <thead>\n",
              "    <tr style=\"text-align: right;\">\n",
              "      <th></th>\n",
              "      <th>Date</th>\n",
              "      <th>ConfirmedCases</th>\n",
              "      <th>Fatalities</th>\n",
              "      <th>UniqueRegion</th>\n",
              "    </tr>\n",
              "  </thead>\n",
              "  <tbody>\n",
              "    <tr>\n",
              "      <th>0</th>\n",
              "      <td>2020-01-22</td>\n",
              "      <td>0.0</td>\n",
              "      <td>0.0</td>\n",
              "      <td>Afghanistan</td>\n",
              "    </tr>\n",
              "    <tr>\n",
              "      <th>1</th>\n",
              "      <td>2020-01-23</td>\n",
              "      <td>0.0</td>\n",
              "      <td>0.0</td>\n",
              "      <td>Afghanistan</td>\n",
              "    </tr>\n",
              "    <tr>\n",
              "      <th>2</th>\n",
              "      <td>2020-01-24</td>\n",
              "      <td>0.0</td>\n",
              "      <td>0.0</td>\n",
              "      <td>Afghanistan</td>\n",
              "    </tr>\n",
              "    <tr>\n",
              "      <th>3</th>\n",
              "      <td>2020-01-25</td>\n",
              "      <td>0.0</td>\n",
              "      <td>0.0</td>\n",
              "      <td>Afghanistan</td>\n",
              "    </tr>\n",
              "    <tr>\n",
              "      <th>4</th>\n",
              "      <td>2020-01-26</td>\n",
              "      <td>0.0</td>\n",
              "      <td>0.0</td>\n",
              "      <td>Afghanistan</td>\n",
              "    </tr>\n",
              "    <tr>\n",
              "      <th>...</th>\n",
              "      <td>...</td>\n",
              "      <td>...</td>\n",
              "      <td>...</td>\n",
              "      <td>...</td>\n",
              "    </tr>\n",
              "    <tr>\n",
              "      <th>25035</th>\n",
              "      <td>2020-04-06</td>\n",
              "      <td>10.0</td>\n",
              "      <td>1.0</td>\n",
              "      <td>Zimbabwe</td>\n",
              "    </tr>\n",
              "    <tr>\n",
              "      <th>25036</th>\n",
              "      <td>2020-04-07</td>\n",
              "      <td>11.0</td>\n",
              "      <td>2.0</td>\n",
              "      <td>Zimbabwe</td>\n",
              "    </tr>\n",
              "    <tr>\n",
              "      <th>25037</th>\n",
              "      <td>2020-04-08</td>\n",
              "      <td>11.0</td>\n",
              "      <td>3.0</td>\n",
              "      <td>Zimbabwe</td>\n",
              "    </tr>\n",
              "    <tr>\n",
              "      <th>25038</th>\n",
              "      <td>2020-04-09</td>\n",
              "      <td>11.0</td>\n",
              "      <td>3.0</td>\n",
              "      <td>Zimbabwe</td>\n",
              "    </tr>\n",
              "    <tr>\n",
              "      <th>25039</th>\n",
              "      <td>2020-04-10</td>\n",
              "      <td>13.0</td>\n",
              "      <td>3.0</td>\n",
              "      <td>Zimbabwe</td>\n",
              "    </tr>\n",
              "  </tbody>\n",
              "</table>\n",
              "<p>25040 rows × 4 columns</p>\n",
              "</div>"
            ],
            "text/plain": [
              "             Date  ConfirmedCases  Fatalities UniqueRegion\n",
              "0      2020-01-22             0.0         0.0  Afghanistan\n",
              "1      2020-01-23             0.0         0.0  Afghanistan\n",
              "2      2020-01-24             0.0         0.0  Afghanistan\n",
              "3      2020-01-25             0.0         0.0  Afghanistan\n",
              "4      2020-01-26             0.0         0.0  Afghanistan\n",
              "...           ...             ...         ...          ...\n",
              "25035  2020-04-06            10.0         1.0     Zimbabwe\n",
              "25036  2020-04-07            11.0         2.0     Zimbabwe\n",
              "25037  2020-04-08            11.0         3.0     Zimbabwe\n",
              "25038  2020-04-09            11.0         3.0     Zimbabwe\n",
              "25039  2020-04-10            13.0         3.0     Zimbabwe\n",
              "\n",
              "[25040 rows x 4 columns]"
            ]
          },
          "metadata": {
            "tags": []
          },
          "execution_count": 179
        }
      ]
    },
    {
      "cell_type": "code",
      "metadata": {
        "id": "tk97QpktF82c",
        "colab_type": "code",
        "colab": {
          "base_uri": "https://localhost:8080/",
          "height": 69
        },
        "outputId": "27e5348d-2de5-4492-de1e-d43c1b6a6655"
      },
      "source": [
        "print(\"Test Data EDA\")\n",
        "print(\"Period:\", len(df_test.Date.unique()))\n",
        "print(\"From:\", df_test.Date.min(), \"To:\", df_test.Date.max())"
      ],
      "execution_count": 180,
      "outputs": [
        {
          "output_type": "stream",
          "text": [
            "Test Data EDA\n",
            "Period: 43\n",
            "From: 2020-04-02 To: 2020-05-14\n"
          ],
          "name": "stdout"
        }
      ]
    },
    {
      "cell_type": "code",
      "metadata": {
        "id": "1ZNF-g9-GeCN",
        "colab_type": "code",
        "colab": {
          "base_uri": "https://localhost:8080/",
          "height": 121
        },
        "outputId": "ec8e3b74-b2fc-475c-8670-914b8419be43"
      },
      "source": [
        "df_test[\"UniqueRegion\"]=df_test.Country_Region\n",
        "df_test.UniqueRegion[df_test.Province_State.isna()==False]=df_test.Province_State+\" , \"+df_test.Country_Region\n",
        "df_test.drop(labels=[\"Province_State\",\"Country_Region\"], axis=1, inplace=True)\n",
        "len(df_test.UniqueRegion.unique())"
      ],
      "execution_count": 181,
      "outputs": [
        {
          "output_type": "stream",
          "text": [
            "/usr/local/lib/python3.6/dist-packages/ipykernel_launcher.py:2: SettingWithCopyWarning: \n",
            "A value is trying to be set on a copy of a slice from a DataFrame\n",
            "\n",
            "See the caveats in the documentation: https://pandas.pydata.org/pandas-docs/stable/user_guide/indexing.html#returning-a-view-versus-a-copy\n",
            "  \n"
          ],
          "name": "stderr"
        },
        {
          "output_type": "execute_result",
          "data": {
            "text/plain": [
              "313"
            ]
          },
          "metadata": {
            "tags": []
          },
          "execution_count": 181
        }
      ]
    },
    {
      "cell_type": "code",
      "metadata": {
        "id": "dit4UzkBHkcQ",
        "colab_type": "code",
        "colab": {}
      },
      "source": [
        "import warnings\n",
        "warnings.filterwarnings(\"ignore\")"
      ],
      "execution_count": 0,
      "outputs": []
    },
    {
      "cell_type": "code",
      "metadata": {
        "id": "o9QxqCBFHXW1",
        "colab_type": "code",
        "colab": {
          "base_uri": "https://localhost:8080/",
          "height": 52
        },
        "outputId": "16cf4c8b-dd4b-4bb9-b586-4f8c267619f5"
      },
      "source": [
        "%%time\n",
        "final_df=pd.DataFrame(columns=[\"Date\",\"ConfirmedCases\",\"Fatalities\",\"UniqueRegion\"])\n",
        "\n",
        "df_test_temp=pd.DataFrame()\n",
        "df_test_temp[\"Date\"]=df_test.Date\n",
        "df_test_temp[\"ConfirmedCases\"]=0.0\n",
        "df_test_temp[\"Fatalities\"]=0.0\n",
        "df_test_temp[\"UniqueRegion\"]=df_test.UniqueRegion\n",
        "df_test_temp[\"Delta\"]=1.0\n",
        "\n",
        "# 针对不同的国家地区进行处理\n",
        "for region in df_train.UniqueRegion.unique():\n",
        "    df_temp=df_train[df_train.UniqueRegion==region].reset_index()\n",
        "    df_temp[\"Delta\"]=1.0\n",
        "    size_train=df_temp.shape[0]\n",
        "    for i in range(1,df_temp.shape[0]):\n",
        "        if(df_temp.ConfirmedCases[i-1]>0): # 如果前面一天的确诊病例大于0，计算今日确诊病例和昨日确诊病例的增加比例\n",
        "            df_temp.Delta[i]=df_temp.ConfirmedCases[i]/df_temp.ConfirmedCases[i-1]\n",
        "\n",
        "    #number of days for delta trend\n",
        "    n=5     \n",
        "\n",
        "    #delta as average of previous n days\n",
        "    delta_avg=df_temp.tail(n).Delta.mean()\n",
        "\n",
        "    #delta as trend for previous n days\n",
        "    delta_list=df_temp.tail(n).Delta\n",
        "\n",
        "    #Morality rate as on last availabe date\n",
        "    death_rate=df_temp.tail(1).Fatalities.sum()/df_temp.tail(1).ConfirmedCases.sum()\n",
        "\n",
        "    df_test_app=df_test_temp[df_test_temp.UniqueRegion==region]\n",
        "    df_test_app=df_test_app[df_test_app.Date>df_temp.Date.max()]\n",
        "\n",
        "    X=np.arange(1,n+1).reshape(-1,1)\n",
        "    Y=delta_list # 预测的是增长的百分比信息\n",
        "    model=LinearRegression()\n",
        "    model.fit(X,Y)\n",
        "\n",
        "    df_temp=pd.concat([df_temp,df_test_app])\n",
        "    df_temp=df_temp.reset_index()\n",
        "\n",
        "    for i in range (size_train, df_temp.shape[0]):\n",
        "        n=n+1\n",
        "        df_temp.Delta[i]=max(1,model.predict(np.array([n]).reshape(-1,1))[0])\n",
        "        # round函数用于四舍五入，预测值为当前的病例数目，乘以相应的确诊增长率\n",
        "        df_temp.ConfirmedCases[i]=round(df_temp.ConfirmedCases[i-1]*df_temp.Delta[i],0)\n",
        "        # 这里其实有点投机取巧，直接用死亡率乘以这个确诊病例数\n",
        "        # 但是这个死亡率是直接按照最后一个数据进行计算的，不是动态的\n",
        "        df_temp.Fatalities[i]=round(death_rate*df_temp.ConfirmedCases[i],0)\n",
        "\n",
        "    size_test=df_temp.shape[0]-df_test_temp[df_test_temp.UniqueRegion==region].shape[0]\n",
        "\n",
        "    df_temp=df_temp.iloc[size_test:,:]\n",
        "    \n",
        "    df_temp=df_temp[[\"Date\",\"ConfirmedCases\",\"Fatalities\",\"UniqueRegion\"]]\n",
        "    final_df=pd.concat([final_df,df_temp], ignore_index=True)\n",
        "    \n",
        "final_df.shape"
      ],
      "execution_count": 185,
      "outputs": [
        {
          "output_type": "stream",
          "text": [
            "CPU times: user 13.6 s, sys: 1.04 ms, total: 13.6 s\n",
            "Wall time: 13.6 s\n"
          ],
          "name": "stdout"
        }
      ]
    },
    {
      "cell_type": "code",
      "metadata": {
        "id": "VHFOr4ilIDdm",
        "colab_type": "code",
        "colab": {
          "base_uri": "https://localhost:8080/",
          "height": 35
        },
        "outputId": "6bf79ee5-7f91-40d9-d26b-cf0329855c7c"
      },
      "source": [
        "print(final_df.shape)"
      ],
      "execution_count": 186,
      "outputs": [
        {
          "output_type": "stream",
          "text": [
            "(13459, 4)\n"
          ],
          "name": "stdout"
        }
      ]
    },
    {
      "cell_type": "code",
      "metadata": {
        "id": "mG68b6DZKk0N",
        "colab_type": "code",
        "colab": {
          "base_uri": "https://localhost:8080/",
          "height": 407
        },
        "outputId": "f30d9aa4-e1b1-4d9a-e3f7-f40346fc7ecf"
      },
      "source": [
        "final_df"
      ],
      "execution_count": 187,
      "outputs": [
        {
          "output_type": "execute_result",
          "data": {
            "text/html": [
              "<div>\n",
              "<style scoped>\n",
              "    .dataframe tbody tr th:only-of-type {\n",
              "        vertical-align: middle;\n",
              "    }\n",
              "\n",
              "    .dataframe tbody tr th {\n",
              "        vertical-align: top;\n",
              "    }\n",
              "\n",
              "    .dataframe thead th {\n",
              "        text-align: right;\n",
              "    }\n",
              "</style>\n",
              "<table border=\"1\" class=\"dataframe\">\n",
              "  <thead>\n",
              "    <tr style=\"text-align: right;\">\n",
              "      <th></th>\n",
              "      <th>Date</th>\n",
              "      <th>ConfirmedCases</th>\n",
              "      <th>Fatalities</th>\n",
              "      <th>UniqueRegion</th>\n",
              "    </tr>\n",
              "  </thead>\n",
              "  <tbody>\n",
              "    <tr>\n",
              "      <th>0</th>\n",
              "      <td>2020-04-02</td>\n",
              "      <td>273.0</td>\n",
              "      <td>6.0</td>\n",
              "      <td>Afghanistan</td>\n",
              "    </tr>\n",
              "    <tr>\n",
              "      <th>1</th>\n",
              "      <td>2020-04-03</td>\n",
              "      <td>281.0</td>\n",
              "      <td>6.0</td>\n",
              "      <td>Afghanistan</td>\n",
              "    </tr>\n",
              "    <tr>\n",
              "      <th>2</th>\n",
              "      <td>2020-04-04</td>\n",
              "      <td>299.0</td>\n",
              "      <td>7.0</td>\n",
              "      <td>Afghanistan</td>\n",
              "    </tr>\n",
              "    <tr>\n",
              "      <th>3</th>\n",
              "      <td>2020-04-05</td>\n",
              "      <td>349.0</td>\n",
              "      <td>7.0</td>\n",
              "      <td>Afghanistan</td>\n",
              "    </tr>\n",
              "    <tr>\n",
              "      <th>4</th>\n",
              "      <td>2020-04-06</td>\n",
              "      <td>367.0</td>\n",
              "      <td>11.0</td>\n",
              "      <td>Afghanistan</td>\n",
              "    </tr>\n",
              "    <tr>\n",
              "      <th>...</th>\n",
              "      <td>...</td>\n",
              "      <td>...</td>\n",
              "      <td>...</td>\n",
              "      <td>...</td>\n",
              "    </tr>\n",
              "    <tr>\n",
              "      <th>13454</th>\n",
              "      <td>2020-05-10</td>\n",
              "      <td>807.0</td>\n",
              "      <td>186.0</td>\n",
              "      <td>Zimbabwe</td>\n",
              "    </tr>\n",
              "    <tr>\n",
              "      <th>13455</th>\n",
              "      <td>2020-05-11</td>\n",
              "      <td>981.0</td>\n",
              "      <td>226.0</td>\n",
              "      <td>Zimbabwe</td>\n",
              "    </tr>\n",
              "    <tr>\n",
              "      <th>13456</th>\n",
              "      <td>2020-05-12</td>\n",
              "      <td>1196.0</td>\n",
              "      <td>276.0</td>\n",
              "      <td>Zimbabwe</td>\n",
              "    </tr>\n",
              "    <tr>\n",
              "      <th>13457</th>\n",
              "      <td>2020-05-13</td>\n",
              "      <td>1463.0</td>\n",
              "      <td>338.0</td>\n",
              "      <td>Zimbabwe</td>\n",
              "    </tr>\n",
              "    <tr>\n",
              "      <th>13458</th>\n",
              "      <td>2020-05-14</td>\n",
              "      <td>1796.0</td>\n",
              "      <td>414.0</td>\n",
              "      <td>Zimbabwe</td>\n",
              "    </tr>\n",
              "  </tbody>\n",
              "</table>\n",
              "<p>13459 rows × 4 columns</p>\n",
              "</div>"
            ],
            "text/plain": [
              "             Date  ConfirmedCases  Fatalities UniqueRegion\n",
              "0      2020-04-02           273.0         6.0  Afghanistan\n",
              "1      2020-04-03           281.0         6.0  Afghanistan\n",
              "2      2020-04-04           299.0         7.0  Afghanistan\n",
              "3      2020-04-05           349.0         7.0  Afghanistan\n",
              "4      2020-04-06           367.0        11.0  Afghanistan\n",
              "...           ...             ...         ...          ...\n",
              "13454  2020-05-10           807.0       186.0     Zimbabwe\n",
              "13455  2020-05-11           981.0       226.0     Zimbabwe\n",
              "13456  2020-05-12          1196.0       276.0     Zimbabwe\n",
              "13457  2020-05-13          1463.0       338.0     Zimbabwe\n",
              "13458  2020-05-14          1796.0       414.0     Zimbabwe\n",
              "\n",
              "[13459 rows x 4 columns]"
            ]
          },
          "metadata": {
            "tags": []
          },
          "execution_count": 187
        }
      ]
    },
    {
      "cell_type": "code",
      "metadata": {
        "id": "HU0ugaTzIE8C",
        "colab_type": "code",
        "colab": {}
      },
      "source": [
        ""
      ],
      "execution_count": 0,
      "outputs": []
    }
  ]
}